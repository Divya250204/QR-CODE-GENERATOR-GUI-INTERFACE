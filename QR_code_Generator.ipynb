{
 "cells": [
  {
   "cell_type": "markdown",
   "id": "aa7f2d6c-f2c0-4786-968d-48320bd92710",
   "metadata": {},
   "source": [
    "# QR CODE GENERATOR"
   ]
  },
  {
   "cell_type": "markdown",
   "id": "e83bc604-d15d-42e9-a2fe-dc962be48e9f",
   "metadata": {},
   "source": [
    "### importing liberaries"
   ]
  },
  {
   "cell_type": "code",
   "execution_count": 6,
   "id": "6c02d2b2-736a-4d5d-ac3d-aa6090b47d51",
   "metadata": {},
   "outputs": [],
   "source": [
    "import qrcode\n",
    "from PIL import Image"
   ]
  },
  {
   "cell_type": "code",
   "execution_count": 9,
   "id": "085f1d42-9a0d-4279-8f80-2281d1684bfb",
   "metadata": {},
   "outputs": [
    {
     "name": "stdin",
     "output_type": "stream",
     "text": [
      "Enter your UPI ID:  7007178630@ibl\n"
     ]
    }
   ],
   "source": [
    "# taking upiid as input\n",
    "UPI_ID = input(\"Enter your UPI ID: \")"
   ]
  },
  {
   "cell_type": "code",
   "execution_count": null,
   "id": "4193aee2-439f-4465-b181-05c5829fbf24",
   "metadata": {},
   "outputs": [],
   "source": [
    "#upi://pay?pa=UPI_ID&apn=NAME&am=AMOUNT&cu=CURRENCY&tn=MESSAGE"
   ]
  },
  {
   "cell_type": "code",
   "execution_count": 10,
   "id": "21f3f44d-4639-4a26-aa4f-500402c822b5",
   "metadata": {},
   "outputs": [],
   "source": [
    "#Defining the payment URL based on the UPI ID and the payment app\n",
    "phonepe_url = f\"upi://pay?pa={UPI_ID}&pn=divya_singh&am=AMOUNT&cu=CURRENCY_CODE&tn=TRANSACTION_NOTE\"\n",
    "paytm_url = f\"upi://pay?pa={UPI_ID}&pn=divya_singh&am=AMOUNT&cu=CURRENCY_CODE&tn=TRANSACTION_NOTE\"\n",
    "googlepay_url = f\"upi://pay?pa={UPI_ID}&pn=divya_singh&am=AMOUNT&cu=CURRENCY_CODE&tn=TRANSACTION_NOTE\""
   ]
  },
  {
   "cell_type": "code",
   "execution_count": 11,
   "id": "e5062e71-edb4-4fd5-8d25-83f521d31adc",
   "metadata": {},
   "outputs": [],
   "source": [
    "# create a qr code instance..\n",
    "qr = qrcode.QRCode(\n",
    "    version=1,# controls the size of code\n",
    "    error_correction = qrcode.constants.ERROR_CORRECT_L , #Controls the error correction used for the qr code\n",
    "    box_size = 10, # controls no of pixels each box contains..\n",
    "    border=4 #controls how many boxes thick the boarder should be...\n",
    ")"
   ]
  },
  {
   "cell_type": "code",
   "execution_count": 12,
   "id": "3bbc3a0c-7d4c-4198-b899-70d79c3c2352",
   "metadata": {},
   "outputs": [],
   "source": [
    "# ADD data to QR Code\n",
    "qr.add_data(phonepe_url)\n",
    "qr.add_data(paytm_url)\n",
    "qr.add_data(googlepay_url)\n",
    "qr.make(fit=True)"
   ]
  },
  {
   "cell_type": "code",
   "execution_count": 15,
   "id": "f3919342-5b8e-42f3-8453-0de3c1e7ae6f",
   "metadata": {},
   "outputs": [],
   "source": [
    "# create an IMAGE from QR Code \n",
    "phonepe_qr = qr.make_image(fill=\"black\",back_color=\"white\").convert(\"RGB\")\n",
    "paytm_qr = qr.make_image(fill=\"black\",back_color=\"white\").convert(\"RGB\")\n",
    "googlepay_qr= qr.make_image(fill=\"black\",back_color=\"white\").convert(\"RGB\")\n"
   ]
  },
  {
   "cell_type": "code",
   "execution_count": 16,
   "id": "253e9c02-0e36-4996-a41f-341cee982c58",
   "metadata": {},
   "outputs": [],
   "source": [
    "# save the qr code to image file\n",
    "phonepe_qr.save(\"phonepe_qr.png\")\n",
    "paytm_qr.save(\"paytm_qr.png\")\n",
    "googlepay_qr.save(\"googlepay_qr.png\")"
   ]
  },
  {
   "cell_type": "code",
   "execution_count": 17,
   "id": "961e11fe-1379-40cc-a6c1-04920488f393",
   "metadata": {},
   "outputs": [],
   "source": [
    "#display the qr code\n",
    "phonepe_qr.show() # using pillow library\n",
    "paytm_qr.show()\n",
    "googlepay_qr.show()\n",
    "\n"
   ]
  },
  {
   "cell_type": "code",
   "execution_count": null,
   "id": "4c3578c0-0ea2-45e8-bfae-1b0eb533b97b",
   "metadata": {},
   "outputs": [],
   "source": []
  },
  {
   "cell_type": "code",
   "execution_count": null,
   "id": "4ab561ee-026d-4c72-a3e1-7e957e230a92",
   "metadata": {},
   "outputs": [],
   "source": []
  },
  {
   "cell_type": "code",
   "execution_count": null,
   "id": "4017b9df-e436-491b-a7b2-79c54edda10a",
   "metadata": {},
   "outputs": [],
   "source": []
  },
  {
   "cell_type": "code",
   "execution_count": null,
   "id": "80b0a206-5d63-43dd-b134-f2a430437568",
   "metadata": {},
   "outputs": [],
   "source": []
  },
  {
   "cell_type": "code",
   "execution_count": null,
   "id": "2f68e2bd-c9ee-4c5f-9576-9106abb628f9",
   "metadata": {},
   "outputs": [],
   "source": []
  },
  {
   "cell_type": "code",
   "execution_count": null,
   "id": "5249eeb1-5992-4bb7-acb7-73b7ec71d7b6",
   "metadata": {},
   "outputs": [],
   "source": []
  },
  {
   "cell_type": "code",
   "execution_count": null,
   "id": "27a345c6-084c-4a4b-9d87-9fd40891f87f",
   "metadata": {},
   "outputs": [],
   "source": []
  },
  {
   "cell_type": "code",
   "execution_count": null,
   "id": "6361656f-a919-4fa7-ae26-ff24931c058c",
   "metadata": {},
   "outputs": [],
   "source": []
  },
  {
   "cell_type": "code",
   "execution_count": null,
   "id": "290b2595-dee4-4dcb-b7a9-e118b0aaae28",
   "metadata": {},
   "outputs": [],
   "source": []
  },
  {
   "cell_type": "code",
   "execution_count": null,
   "id": "fb5fef16-2b21-4172-be02-29d81687940b",
   "metadata": {},
   "outputs": [],
   "source": []
  },
  {
   "cell_type": "code",
   "execution_count": null,
   "id": "c2ecb8d3-888e-4499-ba23-c2ef880fe31e",
   "metadata": {},
   "outputs": [],
   "source": []
  },
  {
   "cell_type": "code",
   "execution_count": null,
   "id": "ba0a45f1-0532-41de-b438-e7075fbf36df",
   "metadata": {},
   "outputs": [],
   "source": []
  },
  {
   "cell_type": "code",
   "execution_count": null,
   "id": "7e83d6c2-e077-4b6d-b44e-0643337e3207",
   "metadata": {},
   "outputs": [],
   "source": []
  },
  {
   "cell_type": "code",
   "execution_count": null,
   "id": "ab506812-b693-4171-aa0c-0fe16730291f",
   "metadata": {},
   "outputs": [],
   "source": []
  }
 ],
 "metadata": {
  "kernelspec": {
   "display_name": "Python 3 (ipykernel)",
   "language": "python",
   "name": "python3"
  },
  "language_info": {
   "codemirror_mode": {
    "name": "ipython",
    "version": 3
   },
   "file_extension": ".py",
   "mimetype": "text/x-python",
   "name": "python",
   "nbconvert_exporter": "python",
   "pygments_lexer": "ipython3",
   "version": "3.11.7"
  }
 },
 "nbformat": 4,
 "nbformat_minor": 5
}
